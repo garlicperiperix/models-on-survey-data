{
 "cells": [
  {
   "cell_type": "code",
   "execution_count": 1,
   "id": "465418ca",
   "metadata": {},
   "outputs": [
    {
     "name": "stderr",
     "output_type": "stream",
     "text": [
      "C:\\Users\\vatsa\\anaconda3\\lib\\site-packages\\statsmodels\\tsa\\base\\tsa_model.py:7: FutureWarning: pandas.Int64Index is deprecated and will be removed from pandas in a future version. Use pandas.Index with the appropriate dtype instead.\n",
      "  from pandas import (to_datetime, Int64Index, DatetimeIndex, Period,\n",
      "C:\\Users\\vatsa\\anaconda3\\lib\\site-packages\\statsmodels\\tsa\\base\\tsa_model.py:7: FutureWarning: pandas.Float64Index is deprecated and will be removed from pandas in a future version. Use pandas.Index with the appropriate dtype instead.\n",
      "  from pandas import (to_datetime, Int64Index, DatetimeIndex, Period,\n"
     ]
    }
   ],
   "source": [
    "from scipy import stats\n",
    "from sklearn.linear_model import LinearRegression\n",
    "from statsmodels.compat import lzip\n",
    "from statsmodels.formula.api import ols\n",
    "from statsmodels.stats.anova import anova_lm\n",
    "from statsmodels.stats.outliers_influence import variance_inflation_factor\n",
    "import matplotlib\n",
    "import matplotlib.pyplot as plt\n",
    "import numpy as np\n",
    "import pandas as pd\n",
    "import seaborn as sns\n",
    "import statsmodels.api as sm\n",
    "from sklearn.feature_selection import SelectKBest, GenericUnivariateSelect,SelectPercentile, chi2,f_regression\n",
    "from sklearn.linear_model import LinearRegression\n",
    "from sklearn.linear_model import Ridge\n",
    "from sklearn.linear_model import Lasso\n",
    "from sklearn.linear_model import ElasticNet\n",
    "from sklearn.model_selection import train_test_split\n",
    "from sklearn.preprocessing import StandardScaler\n",
    "from scipy import stats\n",
    "from sklearn.linear_model import LinearRegression\n",
    "from statsmodels.compat import lzip\n",
    "from statsmodels.formula.api import ols\n",
    "from statsmodels.stats.anova import anova_lm\n",
    "from statsmodels.stats.outliers_influence import variance_inflation_factor\n",
    "from sklearn.neighbors import KNeighborsClassifier\n",
    "import matplotlib\n",
    "import matplotlib.pyplot as plt\n",
    "import numpy as np\n",
    "import pandas as pd\n",
    "import seaborn as sns\n",
    "import statsmodels.api as sm\n",
    "from sklearn import metrics\n",
    "from sklearn.model_selection import train_test_split\n",
    "from sklearn.preprocessing import StandardScaler\n",
    "from sklearn.neighbors import KNeighborsClassifier\n",
    "import warnings\n",
    "warnings.filterwarnings('ignore')\n",
    "\n",
    "%matplotlib inline\n",
    "\n"
   ]
  },
  {
   "cell_type": "code",
   "execution_count": 2,
   "id": "70524697",
   "metadata": {},
   "outputs": [
    {
     "data": {
      "text/html": [
       "<div>\n",
       "<style scoped>\n",
       "    .dataframe tbody tr th:only-of-type {\n",
       "        vertical-align: middle;\n",
       "    }\n",
       "\n",
       "    .dataframe tbody tr th {\n",
       "        vertical-align: top;\n",
       "    }\n",
       "\n",
       "    .dataframe thead th {\n",
       "        text-align: right;\n",
       "    }\n",
       "</style>\n",
       "<table border=\"1\" class=\"dataframe\">\n",
       "  <thead>\n",
       "    <tr style=\"text-align: right;\">\n",
       "      <th></th>\n",
       "      <th>Country of Origin</th>\n",
       "      <th>University major</th>\n",
       "      <th>Gender</th>\n",
       "      <th>Age</th>\n",
       "      <th>Height (inches)</th>\n",
       "      <th>Weight (lbs)</th>\n",
       "      <th>How many siblings do you have?</th>\n",
       "      <th>Marital status</th>\n",
       "      <th>GPA (e.g. undergraduate)</th>\n",
       "      <th>Number of month of programming experience</th>\n",
       "      <th>...</th>\n",
       "      <th>Where do you watch your movies?</th>\n",
       "      <th>Number of countries visited?</th>\n",
       "      <th>Do you prefer the beach or the mountains?</th>\n",
       "      <th>Favorite color</th>\n",
       "      <th>Coffee or Tea?</th>\n",
       "      <th>iPhone or Android?</th>\n",
       "      <th>What kind of music do you like?</th>\n",
       "      <th>Do you prefer hot or cold weather?</th>\n",
       "      <th>Cats or dogs?</th>\n",
       "      <th>Number of shopping trips a month:</th>\n",
       "    </tr>\n",
       "  </thead>\n",
       "  <tbody>\n",
       "    <tr>\n",
       "      <th>0</th>\n",
       "      <td>India</td>\n",
       "      <td>Computer Science</td>\n",
       "      <td>Female</td>\n",
       "      <td>22.0</td>\n",
       "      <td>68.4</td>\n",
       "      <td>130</td>\n",
       "      <td>1</td>\n",
       "      <td>Single</td>\n",
       "      <td>4</td>\n",
       "      <td>0</td>\n",
       "      <td>...</td>\n",
       "      <td>Youtube</td>\n",
       "      <td>2</td>\n",
       "      <td>Beach</td>\n",
       "      <td>Pink</td>\n",
       "      <td>Neither</td>\n",
       "      <td>Android</td>\n",
       "      <td>Melodies</td>\n",
       "      <td>Cold</td>\n",
       "      <td>Cats</td>\n",
       "      <td>2</td>\n",
       "    </tr>\n",
       "    <tr>\n",
       "      <th>1</th>\n",
       "      <td>India</td>\n",
       "      <td>MS in computer science</td>\n",
       "      <td>Female</td>\n",
       "      <td>28.0</td>\n",
       "      <td>5.4'5</td>\n",
       "      <td>65</td>\n",
       "      <td>2</td>\n",
       "      <td>Married</td>\n",
       "      <td>4</td>\n",
       "      <td>approximately 50</td>\n",
       "      <td>...</td>\n",
       "      <td>Hulu</td>\n",
       "      <td>2</td>\n",
       "      <td>Beach</td>\n",
       "      <td>Sky Blue</td>\n",
       "      <td>Tea</td>\n",
       "      <td>iPhone</td>\n",
       "      <td>Melodious</td>\n",
       "      <td>Hot</td>\n",
       "      <td>Neither</td>\n",
       "      <td>3</td>\n",
       "    </tr>\n",
       "    <tr>\n",
       "      <th>2</th>\n",
       "      <td>India</td>\n",
       "      <td>Data science</td>\n",
       "      <td>Male</td>\n",
       "      <td>22.0</td>\n",
       "      <td>72</td>\n",
       "      <td>84</td>\n",
       "      <td>1</td>\n",
       "      <td>Single</td>\n",
       "      <td>8.1</td>\n",
       "      <td>24</td>\n",
       "      <td>...</td>\n",
       "      <td>Other</td>\n",
       "      <td>1</td>\n",
       "      <td>Mountains</td>\n",
       "      <td>Red</td>\n",
       "      <td>Neither</td>\n",
       "      <td>Android</td>\n",
       "      <td>Indian folk music</td>\n",
       "      <td>Hot</td>\n",
       "      <td>Dogs</td>\n",
       "      <td>0</td>\n",
       "    </tr>\n",
       "    <tr>\n",
       "      <th>3</th>\n",
       "      <td>India</td>\n",
       "      <td>Computer science</td>\n",
       "      <td>Male</td>\n",
       "      <td>24.0</td>\n",
       "      <td>67</td>\n",
       "      <td>125</td>\n",
       "      <td>1</td>\n",
       "      <td>Single</td>\n",
       "      <td>8.73</td>\n",
       "      <td>24</td>\n",
       "      <td>...</td>\n",
       "      <td>Youtube</td>\n",
       "      <td>2</td>\n",
       "      <td>Beach</td>\n",
       "      <td>Black</td>\n",
       "      <td>Neither</td>\n",
       "      <td>Android</td>\n",
       "      <td>NaN</td>\n",
       "      <td>NaN</td>\n",
       "      <td>Dogs</td>\n",
       "      <td>NaN</td>\n",
       "    </tr>\n",
       "    <tr>\n",
       "      <th>4</th>\n",
       "      <td>India</td>\n",
       "      <td>Data science</td>\n",
       "      <td>Male</td>\n",
       "      <td>23.0</td>\n",
       "      <td>66</td>\n",
       "      <td>167</td>\n",
       "      <td>One</td>\n",
       "      <td>Single</td>\n",
       "      <td>3.2</td>\n",
       "      <td>3</td>\n",
       "      <td>...</td>\n",
       "      <td>Netflix</td>\n",
       "      <td>1</td>\n",
       "      <td>Beach</td>\n",
       "      <td>Green</td>\n",
       "      <td>Tea</td>\n",
       "      <td>Android</td>\n",
       "      <td>Trance</td>\n",
       "      <td>Cold</td>\n",
       "      <td>Neither</td>\n",
       "      <td>One</td>\n",
       "    </tr>\n",
       "  </tbody>\n",
       "</table>\n",
       "<p>5 rows × 37 columns</p>\n",
       "</div>"
      ],
      "text/plain": [
       "  Country of Origin        University major  Gender   Age Height (inches)  \\\n",
       "0             India        Computer Science  Female  22.0            68.4   \n",
       "1             India  MS in computer science  Female  28.0          5.4'5    \n",
       "2             India           Data science     Male  22.0              72   \n",
       "3             India       Computer science     Male  24.0              67   \n",
       "4             India            Data science    Male  23.0              66   \n",
       "\n",
       "  Weight (lbs) How many siblings do you have? Marital status  \\\n",
       "0          130                              1         Single   \n",
       "1           65                              2        Married   \n",
       "2           84                              1         Single   \n",
       "3          125                              1         Single   \n",
       "4          167                            One         Single   \n",
       "\n",
       "  GPA (e.g. undergraduate) Number of month of programming experience  ...  \\\n",
       "0                        4                                         0  ...   \n",
       "1                        4                          approximately 50  ...   \n",
       "2                      8.1                                        24  ...   \n",
       "3                     8.73                                        24  ...   \n",
       "4                      3.2                                         3  ...   \n",
       "\n",
       "  Where do you watch your movies? Number of countries visited?  \\\n",
       "0                         Youtube                            2   \n",
       "1                            Hulu                            2   \n",
       "2                           Other                            1   \n",
       "3                         Youtube                            2   \n",
       "4                         Netflix                            1   \n",
       "\n",
       "  Do you prefer the beach or the mountains? Favorite color Coffee or Tea?  \\\n",
       "0                                     Beach           Pink        Neither   \n",
       "1                                     Beach      Sky Blue             Tea   \n",
       "2                                 Mountains            Red        Neither   \n",
       "3                                     Beach          Black        Neither   \n",
       "4                                     Beach          Green            Tea   \n",
       "\n",
       "  iPhone or Android? What kind of music do you like?  \\\n",
       "0            Android                        Melodies   \n",
       "1             iPhone                       Melodious   \n",
       "2            Android              Indian folk music    \n",
       "3            Android                             NaN   \n",
       "4            Android                          Trance   \n",
       "\n",
       "  Do you prefer hot or cold weather? Cats or dogs?  \\\n",
       "0                               Cold          Cats   \n",
       "1                                Hot       Neither   \n",
       "2                                Hot          Dogs   \n",
       "3                                NaN          Dogs   \n",
       "4                               Cold       Neither   \n",
       "\n",
       "  Number of shopping trips a month:  \n",
       "0                                 2  \n",
       "1                                 3  \n",
       "2                                 0  \n",
       "3                               NaN  \n",
       "4                               One  \n",
       "\n",
       "[5 rows x 37 columns]"
      ]
     },
     "execution_count": 2,
     "metadata": {},
     "output_type": "execute_result"
    }
   ],
   "source": [
    "df =pd.read_csv('survey_dataset.csv')\n",
    "\n",
    "df.head()"
   ]
  },
  {
   "cell_type": "code",
   "execution_count": 3,
   "id": "87840aa5",
   "metadata": {},
   "outputs": [
    {
     "name": "stdout",
     "output_type": "stream",
     "text": [
      "<class 'pandas.core.frame.DataFrame'>\n",
      "RangeIndex: 116 entries, 0 to 115\n",
      "Data columns (total 37 columns):\n",
      " #   Column                                                                             Non-Null Count  Dtype  \n",
      "---  ------                                                                             --------------  -----  \n",
      " 0   Country of Origin                                                                  115 non-null    object \n",
      " 1   University major                                                                   116 non-null    object \n",
      " 2   Gender                                                                             116 non-null    object \n",
      " 3   Age                                                                                112 non-null    float64\n",
      " 4   Height (inches)                                                                    109 non-null    object \n",
      " 5   Weight (lbs)                                                                       104 non-null    object \n",
      " 6   How many siblings do you have?                                                     112 non-null    object \n",
      " 7   Marital status                                                                     116 non-null    object \n",
      " 8   GPA (e.g. undergraduate)                                                           113 non-null    object \n",
      " 9   Number of month of programming experience                                          112 non-null    object \n",
      " 10  Preferred programming language                                                     114 non-null    object \n",
      " 11  Number of semesters in higher education (college and masters combined)             109 non-null    object \n",
      " 12  Number of courses taking this semester                                             114 non-null    object \n",
      " 13  Where do you live?                                                                 116 non-null    object \n",
      " 14  On average how many hours do you study per week?                                   110 non-null    object \n",
      " 15  Average hours of sleep per night                                                   113 non-null    object \n",
      " 16  Average hours spent on phone each day                                              111 non-null    object \n",
      " 17  Active on about how many social platforms (LinkedIn included)?                     109 non-null    object \n",
      " 18  How many friends/followers on social platform (LinkedIn included)?                 104 non-null    object \n",
      " 19  How many of your high school classmates do you still keep in touch?                111 non-null    object \n",
      " 20  How many close friends do you have?                                                110 non-null    object \n",
      " 21  Number of books read a month (non school related)                                  106 non-null    object \n",
      " 22  How much stipend do you have a month?                                              104 non-null    float64\n",
      " 23  Are_you_working_or_not?                                                            113 non-null    object \n",
      " 24  Do you own a vehicle or not?                                                       116 non-null    object \n",
      " 25  How many days per week do you exercise (running, work out class, swimming, etc.)?  111 non-null    object \n",
      " 26  How many movies do you watch a week?                                               111 non-null    float64\n",
      " 27  Where do you watch your movies?                                                    116 non-null    object \n",
      " 28  Number of countries visited?                                                       114 non-null    object \n",
      " 29  Do you prefer the beach or the mountains?                                          116 non-null    object \n",
      " 30  Favorite color                                                                     114 non-null    object \n",
      " 31  Coffee or Tea?                                                                     116 non-null    object \n",
      " 32  iPhone or Android?                                                                 116 non-null    object \n",
      " 33  What kind of music do you like?                                                    109 non-null    object \n",
      " 34  Do you prefer hot or cold weather?                                                 114 non-null    object \n",
      " 35  Cats or dogs?                                                                      113 non-null    object \n",
      " 36  Number of shopping trips a month:                                                  109 non-null    object \n",
      "dtypes: float64(3), object(34)\n",
      "memory usage: 33.7+ KB\n"
     ]
    }
   ],
   "source": [
    "df.info()"
   ]
  },
  {
   "cell_type": "code",
   "execution_count": 4,
   "id": "b892588d",
   "metadata": {},
   "outputs": [
    {
     "name": "stdout",
     "output_type": "stream",
     "text": [
      "<class 'str'>\n"
     ]
    }
   ],
   "source": [
    "print(type('df'))"
   ]
  },
  {
   "cell_type": "code",
   "execution_count": 5,
   "id": "848172e6",
   "metadata": {},
   "outputs": [],
   "source": [
    "df = df.drop(columns = [\"Marital status\", \"Country of Origin\", \"University major\", \"Height (inches)\", \"Weight (lbs)\", \"How many siblings do you have?\",\"GPA (e.g. undergraduate)\", \"Number of month of programming experience\", \"Preferred programming language\", \"Number of semesters in higher education (college and masters combined)\", \"Number of courses taking this semester\", \"Where do you live?\", \"On average how many hours do you study per week?\", \"Average hours of sleep per night\", \"Average hours spent on phone each day\", \"Active on about how many social platforms (LinkedIn included)?\", \"How many friends/followers on social platform (LinkedIn included)?\", \"How many of your high school classmates do you still keep in touch?\", \"How many close friends do you have?\", \"Number of books read a month (non school related)\", \"Do you own a vehicle or not? \", \"How many days per week do you exercise (running, work out class, swimming, etc.)?\", \"Number of countries visited?\", \"Do you prefer the beach or the mountains?\", \"Favorite color\", \"Coffee or Tea?\", \"iPhone or Android?\", \"What kind of music do you like?\", \"Do you prefer hot or cold weather?\", \"Cats or dogs?\", \"Number of shopping trips a month:\" ])"
   ]
  },
  {
   "cell_type": "code",
   "execution_count": 6,
   "id": "2c4fa98c",
   "metadata": {},
   "outputs": [
    {
     "name": "stdout",
     "output_type": "stream",
     "text": [
      "Missing values per column:\n",
      "Gender                                    0\n",
      "Age                                       4\n",
      "How much stipend do you have a month?    12\n",
      "Are_you_working_or_not?                   3\n",
      "How many movies do you watch a week?      5\n",
      "Where do you watch your movies?           0\n",
      "dtype: int64\n"
     ]
    }
   ],
   "source": [
    "print (\"Missing values per column:\")\n",
    "print (df.isnull().sum() )"
   ]
  },
  {
   "cell_type": "code",
   "execution_count": 7,
   "id": "e4ae5a00",
   "metadata": {},
   "outputs": [],
   "source": [
    "df = df.dropna()"
   ]
  },
  {
   "cell_type": "code",
   "execution_count": 8,
   "id": "2f6932ed",
   "metadata": {},
   "outputs": [
    {
     "name": "stdout",
     "output_type": "stream",
     "text": [
      "Missing values per column:\n",
      "Gender                                   0\n",
      "Age                                      0\n",
      "How much stipend do you have a month?    0\n",
      "Are_you_working_or_not?                  0\n",
      "How many movies do you watch a week?     0\n",
      "Where do you watch your movies?          0\n",
      "dtype: int64\n"
     ]
    }
   ],
   "source": [
    "print (\"Missing values per column:\")\n",
    "print (df.isnull().sum())"
   ]
  },
  {
   "cell_type": "code",
   "execution_count": 9,
   "id": "a2e64061",
   "metadata": {},
   "outputs": [
    {
     "data": {
      "text/html": [
       "<div>\n",
       "<style scoped>\n",
       "    .dataframe tbody tr th:only-of-type {\n",
       "        vertical-align: middle;\n",
       "    }\n",
       "\n",
       "    .dataframe tbody tr th {\n",
       "        vertical-align: top;\n",
       "    }\n",
       "\n",
       "    .dataframe thead th {\n",
       "        text-align: right;\n",
       "    }\n",
       "</style>\n",
       "<table border=\"1\" class=\"dataframe\">\n",
       "  <thead>\n",
       "    <tr style=\"text-align: right;\">\n",
       "      <th></th>\n",
       "      <th>Gender</th>\n",
       "      <th>Age</th>\n",
       "      <th>How much stipend do you have a month?</th>\n",
       "      <th>Are_you_working_or_not?</th>\n",
       "      <th>How many movies do you watch a week?</th>\n",
       "      <th>Where do you watch your movies?</th>\n",
       "    </tr>\n",
       "  </thead>\n",
       "  <tbody>\n",
       "    <tr>\n",
       "      <th>0</th>\n",
       "      <td>Female</td>\n",
       "      <td>22.0</td>\n",
       "      <td>800.0</td>\n",
       "      <td>Yes</td>\n",
       "      <td>1.0</td>\n",
       "      <td>Youtube</td>\n",
       "    </tr>\n",
       "    <tr>\n",
       "      <th>1</th>\n",
       "      <td>Female</td>\n",
       "      <td>28.0</td>\n",
       "      <td>800.0</td>\n",
       "      <td>Yes</td>\n",
       "      <td>1.0</td>\n",
       "      <td>Hulu</td>\n",
       "    </tr>\n",
       "    <tr>\n",
       "      <th>3</th>\n",
       "      <td>Male</td>\n",
       "      <td>24.0</td>\n",
       "      <td>0.0</td>\n",
       "      <td>No</td>\n",
       "      <td>0.0</td>\n",
       "      <td>Youtube</td>\n",
       "    </tr>\n",
       "    <tr>\n",
       "      <th>4</th>\n",
       "      <td>Male</td>\n",
       "      <td>23.0</td>\n",
       "      <td>0.0</td>\n",
       "      <td>No</td>\n",
       "      <td>5.0</td>\n",
       "      <td>Netflix</td>\n",
       "    </tr>\n",
       "    <tr>\n",
       "      <th>5</th>\n",
       "      <td>Male</td>\n",
       "      <td>25.0</td>\n",
       "      <td>0.0</td>\n",
       "      <td>No</td>\n",
       "      <td>3.0</td>\n",
       "      <td>Other</td>\n",
       "    </tr>\n",
       "  </tbody>\n",
       "</table>\n",
       "</div>"
      ],
      "text/plain": [
       "   Gender   Age  How much stipend do you have a month?  \\\n",
       "0  Female  22.0                                  800.0   \n",
       "1  Female  28.0                                  800.0   \n",
       "3    Male  24.0                                    0.0   \n",
       "4    Male  23.0                                    0.0   \n",
       "5    Male  25.0                                    0.0   \n",
       "\n",
       "  Are_you_working_or_not?   How many movies do you watch a week?  \\\n",
       "0                      Yes                                   1.0   \n",
       "1                      Yes                                   1.0   \n",
       "3                       No                                   0.0   \n",
       "4                       No                                   5.0   \n",
       "5                       No                                   3.0   \n",
       "\n",
       "  Where do you watch your movies?  \n",
       "0                         Youtube  \n",
       "1                            Hulu  \n",
       "3                         Youtube  \n",
       "4                         Netflix  \n",
       "5                           Other  "
      ]
     },
     "execution_count": 9,
     "metadata": {},
     "output_type": "execute_result"
    }
   ],
   "source": [
    "df.head()"
   ]
  },
  {
   "cell_type": "code",
   "execution_count": 10,
   "id": "aaacb66d",
   "metadata": {},
   "outputs": [],
   "source": [
    "df.replace({\"Gender\":{\"Female\" : 0, \"Male\" : 1}}, inplace = True)"
   ]
  },
  {
   "cell_type": "code",
   "execution_count": 11,
   "id": "e134b065",
   "metadata": {},
   "outputs": [],
   "source": [
    "df.replace({\"Are_you_working_or_not? \":{\"No\" : 0, \"Yes\" : 1}}, inplace = True)"
   ]
  },
  {
   "cell_type": "code",
   "execution_count": 12,
   "id": "04defe87",
   "metadata": {},
   "outputs": [],
   "source": [
    "df.replace({\"Where do you watch your movies?\":{\"Youtube\" : 0, \"Hulu\" : 1, \"Netflix\" : 2, \"My own computer\" : 3, \"Other\" : 4 }}, inplace = True)"
   ]
  },
  {
   "cell_type": "code",
   "execution_count": 13,
   "id": "566aecf8",
   "metadata": {},
   "outputs": [],
   "source": [
    "df.replace({\"How many movies do you watch a week?\":{0 : 0, 1 : 0, 2 : 0, 3 : 0, 4 : 0, 5 : 0, 6 : 1, 7 : 1, 8 : 1, 9 : 1, 10 : 1, 11 : 1, 12 : 1 }}, inplace = True)"
   ]
  },
  {
   "cell_type": "code",
   "execution_count": 14,
   "id": "7314695e",
   "metadata": {},
   "outputs": [
    {
     "data": {
      "text/html": [
       "<div>\n",
       "<style scoped>\n",
       "    .dataframe tbody tr th:only-of-type {\n",
       "        vertical-align: middle;\n",
       "    }\n",
       "\n",
       "    .dataframe tbody tr th {\n",
       "        vertical-align: top;\n",
       "    }\n",
       "\n",
       "    .dataframe thead th {\n",
       "        text-align: right;\n",
       "    }\n",
       "</style>\n",
       "<table border=\"1\" class=\"dataframe\">\n",
       "  <thead>\n",
       "    <tr style=\"text-align: right;\">\n",
       "      <th></th>\n",
       "      <th>Gender</th>\n",
       "      <th>Age</th>\n",
       "      <th>How much stipend do you have a month?</th>\n",
       "      <th>Are_you_working_or_not?</th>\n",
       "      <th>How many movies do you watch a week?</th>\n",
       "      <th>Where do you watch your movies?</th>\n",
       "    </tr>\n",
       "  </thead>\n",
       "  <tbody>\n",
       "    <tr>\n",
       "      <th>0</th>\n",
       "      <td>0</td>\n",
       "      <td>22.0</td>\n",
       "      <td>800.0</td>\n",
       "      <td>1</td>\n",
       "      <td>0.0</td>\n",
       "      <td>0</td>\n",
       "    </tr>\n",
       "    <tr>\n",
       "      <th>1</th>\n",
       "      <td>0</td>\n",
       "      <td>28.0</td>\n",
       "      <td>800.0</td>\n",
       "      <td>1</td>\n",
       "      <td>0.0</td>\n",
       "      <td>1</td>\n",
       "    </tr>\n",
       "    <tr>\n",
       "      <th>3</th>\n",
       "      <td>1</td>\n",
       "      <td>24.0</td>\n",
       "      <td>0.0</td>\n",
       "      <td>0</td>\n",
       "      <td>0.0</td>\n",
       "      <td>0</td>\n",
       "    </tr>\n",
       "    <tr>\n",
       "      <th>4</th>\n",
       "      <td>1</td>\n",
       "      <td>23.0</td>\n",
       "      <td>0.0</td>\n",
       "      <td>0</td>\n",
       "      <td>0.0</td>\n",
       "      <td>2</td>\n",
       "    </tr>\n",
       "    <tr>\n",
       "      <th>5</th>\n",
       "      <td>1</td>\n",
       "      <td>25.0</td>\n",
       "      <td>0.0</td>\n",
       "      <td>0</td>\n",
       "      <td>0.0</td>\n",
       "      <td>4</td>\n",
       "    </tr>\n",
       "    <tr>\n",
       "      <th>7</th>\n",
       "      <td>1</td>\n",
       "      <td>23.0</td>\n",
       "      <td>0.0</td>\n",
       "      <td>0</td>\n",
       "      <td>0.0</td>\n",
       "      <td>2</td>\n",
       "    </tr>\n",
       "    <tr>\n",
       "      <th>8</th>\n",
       "      <td>1</td>\n",
       "      <td>23.0</td>\n",
       "      <td>0.0</td>\n",
       "      <td>0</td>\n",
       "      <td>0.0</td>\n",
       "      <td>2</td>\n",
       "    </tr>\n",
       "    <tr>\n",
       "      <th>9</th>\n",
       "      <td>1</td>\n",
       "      <td>23.0</td>\n",
       "      <td>0.0</td>\n",
       "      <td>0</td>\n",
       "      <td>0.0</td>\n",
       "      <td>4</td>\n",
       "    </tr>\n",
       "    <tr>\n",
       "      <th>10</th>\n",
       "      <td>1</td>\n",
       "      <td>27.0</td>\n",
       "      <td>400.0</td>\n",
       "      <td>0</td>\n",
       "      <td>0.0</td>\n",
       "      <td>2</td>\n",
       "    </tr>\n",
       "    <tr>\n",
       "      <th>12</th>\n",
       "      <td>1</td>\n",
       "      <td>24.0</td>\n",
       "      <td>500.0</td>\n",
       "      <td>0</td>\n",
       "      <td>1.0</td>\n",
       "      <td>2</td>\n",
       "    </tr>\n",
       "    <tr>\n",
       "      <th>13</th>\n",
       "      <td>0</td>\n",
       "      <td>23.0</td>\n",
       "      <td>0.0</td>\n",
       "      <td>0</td>\n",
       "      <td>0.0</td>\n",
       "      <td>2</td>\n",
       "    </tr>\n",
       "    <tr>\n",
       "      <th>14</th>\n",
       "      <td>1</td>\n",
       "      <td>22.0</td>\n",
       "      <td>300.0</td>\n",
       "      <td>0</td>\n",
       "      <td>1.0</td>\n",
       "      <td>0</td>\n",
       "    </tr>\n",
       "    <tr>\n",
       "      <th>15</th>\n",
       "      <td>1</td>\n",
       "      <td>23.0</td>\n",
       "      <td>500.0</td>\n",
       "      <td>0</td>\n",
       "      <td>0.0</td>\n",
       "      <td>2</td>\n",
       "    </tr>\n",
       "    <tr>\n",
       "      <th>16</th>\n",
       "      <td>0</td>\n",
       "      <td>23.0</td>\n",
       "      <td>500.0</td>\n",
       "      <td>0</td>\n",
       "      <td>0.0</td>\n",
       "      <td>2</td>\n",
       "    </tr>\n",
       "    <tr>\n",
       "      <th>17</th>\n",
       "      <td>0</td>\n",
       "      <td>22.0</td>\n",
       "      <td>0.0</td>\n",
       "      <td>0</td>\n",
       "      <td>0.0</td>\n",
       "      <td>1</td>\n",
       "    </tr>\n",
       "    <tr>\n",
       "      <th>18</th>\n",
       "      <td>1</td>\n",
       "      <td>23.0</td>\n",
       "      <td>0.0</td>\n",
       "      <td>0</td>\n",
       "      <td>0.0</td>\n",
       "      <td>3</td>\n",
       "    </tr>\n",
       "    <tr>\n",
       "      <th>20</th>\n",
       "      <td>1</td>\n",
       "      <td>34.0</td>\n",
       "      <td>0.0</td>\n",
       "      <td>0</td>\n",
       "      <td>0.0</td>\n",
       "      <td>3</td>\n",
       "    </tr>\n",
       "    <tr>\n",
       "      <th>22</th>\n",
       "      <td>0</td>\n",
       "      <td>24.0</td>\n",
       "      <td>700.0</td>\n",
       "      <td>1</td>\n",
       "      <td>0.0</td>\n",
       "      <td>2</td>\n",
       "    </tr>\n",
       "    <tr>\n",
       "      <th>23</th>\n",
       "      <td>0</td>\n",
       "      <td>23.0</td>\n",
       "      <td>1500.0</td>\n",
       "      <td>1</td>\n",
       "      <td>0.0</td>\n",
       "      <td>2</td>\n",
       "    </tr>\n",
       "    <tr>\n",
       "      <th>24</th>\n",
       "      <td>1</td>\n",
       "      <td>23.0</td>\n",
       "      <td>1500.0</td>\n",
       "      <td>0</td>\n",
       "      <td>0.0</td>\n",
       "      <td>4</td>\n",
       "    </tr>\n",
       "    <tr>\n",
       "      <th>26</th>\n",
       "      <td>0</td>\n",
       "      <td>24.0</td>\n",
       "      <td>0.0</td>\n",
       "      <td>0</td>\n",
       "      <td>0.0</td>\n",
       "      <td>3</td>\n",
       "    </tr>\n",
       "    <tr>\n",
       "      <th>27</th>\n",
       "      <td>1</td>\n",
       "      <td>22.0</td>\n",
       "      <td>0.0</td>\n",
       "      <td>0</td>\n",
       "      <td>0.0</td>\n",
       "      <td>2</td>\n",
       "    </tr>\n",
       "    <tr>\n",
       "      <th>28</th>\n",
       "      <td>1</td>\n",
       "      <td>24.0</td>\n",
       "      <td>0.0</td>\n",
       "      <td>0</td>\n",
       "      <td>1.0</td>\n",
       "      <td>2</td>\n",
       "    </tr>\n",
       "    <tr>\n",
       "      <th>31</th>\n",
       "      <td>1</td>\n",
       "      <td>22.0</td>\n",
       "      <td>800.0</td>\n",
       "      <td>1</td>\n",
       "      <td>0.0</td>\n",
       "      <td>2</td>\n",
       "    </tr>\n",
       "    <tr>\n",
       "      <th>32</th>\n",
       "      <td>1</td>\n",
       "      <td>21.0</td>\n",
       "      <td>0.0</td>\n",
       "      <td>0</td>\n",
       "      <td>0.0</td>\n",
       "      <td>3</td>\n",
       "    </tr>\n",
       "    <tr>\n",
       "      <th>33</th>\n",
       "      <td>1</td>\n",
       "      <td>23.0</td>\n",
       "      <td>0.0</td>\n",
       "      <td>0</td>\n",
       "      <td>0.0</td>\n",
       "      <td>2</td>\n",
       "    </tr>\n",
       "    <tr>\n",
       "      <th>34</th>\n",
       "      <td>1</td>\n",
       "      <td>24.0</td>\n",
       "      <td>0.0</td>\n",
       "      <td>1</td>\n",
       "      <td>0.0</td>\n",
       "      <td>2</td>\n",
       "    </tr>\n",
       "    <tr>\n",
       "      <th>36</th>\n",
       "      <td>0</td>\n",
       "      <td>23.0</td>\n",
       "      <td>500.0</td>\n",
       "      <td>0</td>\n",
       "      <td>0.0</td>\n",
       "      <td>4</td>\n",
       "    </tr>\n",
       "    <tr>\n",
       "      <th>37</th>\n",
       "      <td>1</td>\n",
       "      <td>23.0</td>\n",
       "      <td>0.0</td>\n",
       "      <td>0</td>\n",
       "      <td>0.0</td>\n",
       "      <td>2</td>\n",
       "    </tr>\n",
       "    <tr>\n",
       "      <th>38</th>\n",
       "      <td>0</td>\n",
       "      <td>25.0</td>\n",
       "      <td>0.0</td>\n",
       "      <td>0</td>\n",
       "      <td>0.0</td>\n",
       "      <td>2</td>\n",
       "    </tr>\n",
       "    <tr>\n",
       "      <th>39</th>\n",
       "      <td>0</td>\n",
       "      <td>26.0</td>\n",
       "      <td>0.0</td>\n",
       "      <td>0</td>\n",
       "      <td>0.0</td>\n",
       "      <td>3</td>\n",
       "    </tr>\n",
       "    <tr>\n",
       "      <th>40</th>\n",
       "      <td>1</td>\n",
       "      <td>24.0</td>\n",
       "      <td>0.0</td>\n",
       "      <td>0</td>\n",
       "      <td>0.0</td>\n",
       "      <td>2</td>\n",
       "    </tr>\n",
       "    <tr>\n",
       "      <th>42</th>\n",
       "      <td>1</td>\n",
       "      <td>22.0</td>\n",
       "      <td>0.0</td>\n",
       "      <td>0</td>\n",
       "      <td>1.0</td>\n",
       "      <td>2</td>\n",
       "    </tr>\n",
       "    <tr>\n",
       "      <th>43</th>\n",
       "      <td>1</td>\n",
       "      <td>28.0</td>\n",
       "      <td>850.0</td>\n",
       "      <td>1</td>\n",
       "      <td>0.0</td>\n",
       "      <td>2</td>\n",
       "    </tr>\n",
       "    <tr>\n",
       "      <th>44</th>\n",
       "      <td>1</td>\n",
       "      <td>26.0</td>\n",
       "      <td>700.0</td>\n",
       "      <td>1</td>\n",
       "      <td>0.0</td>\n",
       "      <td>4</td>\n",
       "    </tr>\n",
       "    <tr>\n",
       "      <th>46</th>\n",
       "      <td>1</td>\n",
       "      <td>24.0</td>\n",
       "      <td>0.0</td>\n",
       "      <td>1</td>\n",
       "      <td>0.0</td>\n",
       "      <td>2</td>\n",
       "    </tr>\n",
       "    <tr>\n",
       "      <th>47</th>\n",
       "      <td>0</td>\n",
       "      <td>21.0</td>\n",
       "      <td>300.0</td>\n",
       "      <td>0</td>\n",
       "      <td>0.0</td>\n",
       "      <td>3</td>\n",
       "    </tr>\n",
       "    <tr>\n",
       "      <th>48</th>\n",
       "      <td>1</td>\n",
       "      <td>24.0</td>\n",
       "      <td>0.0</td>\n",
       "      <td>0</td>\n",
       "      <td>0.0</td>\n",
       "      <td>2</td>\n",
       "    </tr>\n",
       "    <tr>\n",
       "      <th>49</th>\n",
       "      <td>1</td>\n",
       "      <td>22.0</td>\n",
       "      <td>0.0</td>\n",
       "      <td>0</td>\n",
       "      <td>0.0</td>\n",
       "      <td>2</td>\n",
       "    </tr>\n",
       "    <tr>\n",
       "      <th>50</th>\n",
       "      <td>0</td>\n",
       "      <td>22.0</td>\n",
       "      <td>0.0</td>\n",
       "      <td>0</td>\n",
       "      <td>0.0</td>\n",
       "      <td>2</td>\n",
       "    </tr>\n",
       "    <tr>\n",
       "      <th>51</th>\n",
       "      <td>0</td>\n",
       "      <td>25.0</td>\n",
       "      <td>500.0</td>\n",
       "      <td>0</td>\n",
       "      <td>0.0</td>\n",
       "      <td>2</td>\n",
       "    </tr>\n",
       "    <tr>\n",
       "      <th>52</th>\n",
       "      <td>1</td>\n",
       "      <td>23.0</td>\n",
       "      <td>0.0</td>\n",
       "      <td>0</td>\n",
       "      <td>0.0</td>\n",
       "      <td>4</td>\n",
       "    </tr>\n",
       "    <tr>\n",
       "      <th>53</th>\n",
       "      <td>1</td>\n",
       "      <td>21.0</td>\n",
       "      <td>0.0</td>\n",
       "      <td>0</td>\n",
       "      <td>0.0</td>\n",
       "      <td>4</td>\n",
       "    </tr>\n",
       "    <tr>\n",
       "      <th>54</th>\n",
       "      <td>1</td>\n",
       "      <td>22.0</td>\n",
       "      <td>1000.0</td>\n",
       "      <td>1</td>\n",
       "      <td>0.0</td>\n",
       "      <td>3</td>\n",
       "    </tr>\n",
       "    <tr>\n",
       "      <th>55</th>\n",
       "      <td>1</td>\n",
       "      <td>22.0</td>\n",
       "      <td>0.0</td>\n",
       "      <td>0</td>\n",
       "      <td>0.0</td>\n",
       "      <td>0</td>\n",
       "    </tr>\n",
       "    <tr>\n",
       "      <th>56</th>\n",
       "      <td>0</td>\n",
       "      <td>22.0</td>\n",
       "      <td>0.0</td>\n",
       "      <td>0</td>\n",
       "      <td>0.0</td>\n",
       "      <td>2</td>\n",
       "    </tr>\n",
       "    <tr>\n",
       "      <th>57</th>\n",
       "      <td>1</td>\n",
       "      <td>22.0</td>\n",
       "      <td>0.0</td>\n",
       "      <td>0</td>\n",
       "      <td>0.0</td>\n",
       "      <td>2</td>\n",
       "    </tr>\n",
       "    <tr>\n",
       "      <th>58</th>\n",
       "      <td>1</td>\n",
       "      <td>25.0</td>\n",
       "      <td>0.0</td>\n",
       "      <td>0</td>\n",
       "      <td>0.0</td>\n",
       "      <td>0</td>\n",
       "    </tr>\n",
       "    <tr>\n",
       "      <th>59</th>\n",
       "      <td>1</td>\n",
       "      <td>24.0</td>\n",
       "      <td>800.0</td>\n",
       "      <td>1</td>\n",
       "      <td>0.0</td>\n",
       "      <td>2</td>\n",
       "    </tr>\n",
       "    <tr>\n",
       "      <th>60</th>\n",
       "      <td>1</td>\n",
       "      <td>25.0</td>\n",
       "      <td>0.0</td>\n",
       "      <td>0</td>\n",
       "      <td>0.0</td>\n",
       "      <td>4</td>\n",
       "    </tr>\n",
       "  </tbody>\n",
       "</table>\n",
       "</div>"
      ],
      "text/plain": [
       "    Gender   Age  How much stipend do you have a month?  \\\n",
       "0        0  22.0                                  800.0   \n",
       "1        0  28.0                                  800.0   \n",
       "3        1  24.0                                    0.0   \n",
       "4        1  23.0                                    0.0   \n",
       "5        1  25.0                                    0.0   \n",
       "7        1  23.0                                    0.0   \n",
       "8        1  23.0                                    0.0   \n",
       "9        1  23.0                                    0.0   \n",
       "10       1  27.0                                  400.0   \n",
       "12       1  24.0                                  500.0   \n",
       "13       0  23.0                                    0.0   \n",
       "14       1  22.0                                  300.0   \n",
       "15       1  23.0                                  500.0   \n",
       "16       0  23.0                                  500.0   \n",
       "17       0  22.0                                    0.0   \n",
       "18       1  23.0                                    0.0   \n",
       "20       1  34.0                                    0.0   \n",
       "22       0  24.0                                  700.0   \n",
       "23       0  23.0                                 1500.0   \n",
       "24       1  23.0                                 1500.0   \n",
       "26       0  24.0                                    0.0   \n",
       "27       1  22.0                                    0.0   \n",
       "28       1  24.0                                    0.0   \n",
       "31       1  22.0                                  800.0   \n",
       "32       1  21.0                                    0.0   \n",
       "33       1  23.0                                    0.0   \n",
       "34       1  24.0                                    0.0   \n",
       "36       0  23.0                                  500.0   \n",
       "37       1  23.0                                    0.0   \n",
       "38       0  25.0                                    0.0   \n",
       "39       0  26.0                                    0.0   \n",
       "40       1  24.0                                    0.0   \n",
       "42       1  22.0                                    0.0   \n",
       "43       1  28.0                                  850.0   \n",
       "44       1  26.0                                  700.0   \n",
       "46       1  24.0                                    0.0   \n",
       "47       0  21.0                                  300.0   \n",
       "48       1  24.0                                    0.0   \n",
       "49       1  22.0                                    0.0   \n",
       "50       0  22.0                                    0.0   \n",
       "51       0  25.0                                  500.0   \n",
       "52       1  23.0                                    0.0   \n",
       "53       1  21.0                                    0.0   \n",
       "54       1  22.0                                 1000.0   \n",
       "55       1  22.0                                    0.0   \n",
       "56       0  22.0                                    0.0   \n",
       "57       1  22.0                                    0.0   \n",
       "58       1  25.0                                    0.0   \n",
       "59       1  24.0                                  800.0   \n",
       "60       1  25.0                                    0.0   \n",
       "\n",
       "    Are_you_working_or_not?   How many movies do you watch a week?  \\\n",
       "0                          1                                   0.0   \n",
       "1                          1                                   0.0   \n",
       "3                          0                                   0.0   \n",
       "4                          0                                   0.0   \n",
       "5                          0                                   0.0   \n",
       "7                          0                                   0.0   \n",
       "8                          0                                   0.0   \n",
       "9                          0                                   0.0   \n",
       "10                         0                                   0.0   \n",
       "12                         0                                   1.0   \n",
       "13                         0                                   0.0   \n",
       "14                         0                                   1.0   \n",
       "15                         0                                   0.0   \n",
       "16                         0                                   0.0   \n",
       "17                         0                                   0.0   \n",
       "18                         0                                   0.0   \n",
       "20                         0                                   0.0   \n",
       "22                         1                                   0.0   \n",
       "23                         1                                   0.0   \n",
       "24                         0                                   0.0   \n",
       "26                         0                                   0.0   \n",
       "27                         0                                   0.0   \n",
       "28                         0                                   1.0   \n",
       "31                         1                                   0.0   \n",
       "32                         0                                   0.0   \n",
       "33                         0                                   0.0   \n",
       "34                         1                                   0.0   \n",
       "36                         0                                   0.0   \n",
       "37                         0                                   0.0   \n",
       "38                         0                                   0.0   \n",
       "39                         0                                   0.0   \n",
       "40                         0                                   0.0   \n",
       "42                         0                                   1.0   \n",
       "43                         1                                   0.0   \n",
       "44                         1                                   0.0   \n",
       "46                         1                                   0.0   \n",
       "47                         0                                   0.0   \n",
       "48                         0                                   0.0   \n",
       "49                         0                                   0.0   \n",
       "50                         0                                   0.0   \n",
       "51                         0                                   0.0   \n",
       "52                         0                                   0.0   \n",
       "53                         0                                   0.0   \n",
       "54                         1                                   0.0   \n",
       "55                         0                                   0.0   \n",
       "56                         0                                   0.0   \n",
       "57                         0                                   0.0   \n",
       "58                         0                                   0.0   \n",
       "59                         1                                   0.0   \n",
       "60                         0                                   0.0   \n",
       "\n",
       "    Where do you watch your movies?  \n",
       "0                                 0  \n",
       "1                                 1  \n",
       "3                                 0  \n",
       "4                                 2  \n",
       "5                                 4  \n",
       "7                                 2  \n",
       "8                                 2  \n",
       "9                                 4  \n",
       "10                                2  \n",
       "12                                2  \n",
       "13                                2  \n",
       "14                                0  \n",
       "15                                2  \n",
       "16                                2  \n",
       "17                                1  \n",
       "18                                3  \n",
       "20                                3  \n",
       "22                                2  \n",
       "23                                2  \n",
       "24                                4  \n",
       "26                                3  \n",
       "27                                2  \n",
       "28                                2  \n",
       "31                                2  \n",
       "32                                3  \n",
       "33                                2  \n",
       "34                                2  \n",
       "36                                4  \n",
       "37                                2  \n",
       "38                                2  \n",
       "39                                3  \n",
       "40                                2  \n",
       "42                                2  \n",
       "43                                2  \n",
       "44                                4  \n",
       "46                                2  \n",
       "47                                3  \n",
       "48                                2  \n",
       "49                                2  \n",
       "50                                2  \n",
       "51                                2  \n",
       "52                                4  \n",
       "53                                4  \n",
       "54                                3  \n",
       "55                                0  \n",
       "56                                2  \n",
       "57                                2  \n",
       "58                                0  \n",
       "59                                2  \n",
       "60                                4  "
      ]
     },
     "execution_count": 14,
     "metadata": {},
     "output_type": "execute_result"
    }
   ],
   "source": [
    "df.head(50)"
   ]
  },
  {
   "cell_type": "code",
   "execution_count": 15,
   "id": "a3991cad",
   "metadata": {},
   "outputs": [
    {
     "name": "stdout",
     "output_type": "stream",
     "text": [
      "<class 'pandas.core.frame.DataFrame'>\n",
      "Int64Index: 98 entries, 0 to 115\n",
      "Data columns (total 6 columns):\n",
      " #   Column                                 Non-Null Count  Dtype  \n",
      "---  ------                                 --------------  -----  \n",
      " 0   Gender                                 98 non-null     int64  \n",
      " 1   Age                                    98 non-null     float64\n",
      " 2   How much stipend do you have a month?  98 non-null     float64\n",
      " 3   Are_you_working_or_not?                98 non-null     int64  \n",
      " 4   How many movies do you watch a week?   98 non-null     float64\n",
      " 5   Where do you watch your movies?        98 non-null     int64  \n",
      "dtypes: float64(3), int64(3)\n",
      "memory usage: 5.4 KB\n"
     ]
    }
   ],
   "source": [
    "df.info()"
   ]
  },
  {
   "cell_type": "code",
   "execution_count": 16,
   "id": "84285787",
   "metadata": {},
   "outputs": [],
   "source": [
    "X=df.loc[:, df.columns != \"How many movies do you watch a week?\"]\n",
    "Y=df[\"How many movies do you watch a week?\"]"
   ]
  },
  {
   "cell_type": "code",
   "execution_count": 17,
   "id": "3eefbce5",
   "metadata": {},
   "outputs": [
    {
     "name": "stdout",
     "output_type": "stream",
     "text": [
      "                                         Gender       Age  \\\n",
      "Gender                                 1.000000  0.015041   \n",
      "Age                                    0.015041  1.000000   \n",
      "How much stipend do you have a month? -0.062826 -0.047603   \n",
      "Are_you_working_or_not?               -0.072497  0.155914   \n",
      "How many movies do you watch a week?   0.166667 -0.095552   \n",
      "Where do you watch your movies?        0.077892  0.068725   \n",
      "\n",
      "                                       How much stipend do you have a month?  \\\n",
      "Gender                                                             -0.062826   \n",
      "Age                                                                -0.047603   \n",
      "How much stipend do you have a month?                               1.000000   \n",
      "Are_you_working_or_not?                                             0.530130   \n",
      "How many movies do you watch a week?                               -0.087483   \n",
      "Where do you watch your movies?                                     0.182887   \n",
      "\n",
      "                                       Are_you_working_or_not?   \\\n",
      "Gender                                                -0.072497   \n",
      "Age                                                    0.155914   \n",
      "How much stipend do you have a month?                  0.530130   \n",
      "Are_you_working_or_not?                                1.000000   \n",
      "How many movies do you watch a week?                  -0.162307   \n",
      "Where do you watch your movies?                       -0.012804   \n",
      "\n",
      "                                       How many movies do you watch a week?  \\\n",
      "Gender                                                             0.166667   \n",
      "Age                                                               -0.095552   \n",
      "How much stipend do you have a month?                             -0.087483   \n",
      "Are_you_working_or_not?                                           -0.162307   \n",
      "How many movies do you watch a week?                               1.000000   \n",
      "Where do you watch your movies?                                   -0.132131   \n",
      "\n",
      "                                       Where do you watch your movies?  \n",
      "Gender                                                        0.077892  \n",
      "Age                                                           0.068725  \n",
      "How much stipend do you have a month?                         0.182887  \n",
      "Are_you_working_or_not?                                      -0.012804  \n",
      "How many movies do you watch a week?                         -0.132131  \n",
      "Where do you watch your movies?                               1.000000  \n"
     ]
    }
   ],
   "source": [
    "corr_matrix=df.corr()\n",
    "print(corr_matrix)"
   ]
  },
  {
   "cell_type": "code",
   "execution_count": 18,
   "id": "00925d5c",
   "metadata": {},
   "outputs": [
    {
     "data": {
      "image/png": "[encoded data removed]",
      "text/plain": [
       "<Figure size 864x864 with 2 Axes>"
      ]
     },
     "metadata": {
      "needs_background": "light"
     },
     "output_type": "display_data"
    }
   ],
   "source": [
    "plt.figure(figsize=(12,12))\n",
    "plt.title('Correlation Heatmap')\n",
    "corr = df.corr()\n",
    "sns.heatmap(corr, annot = True, linewidths = 1)\n",
    "plt.show()    "
   ]
  },
  {
   "cell_type": "code",
   "execution_count": 19,
   "id": "d08d1c13",
   "metadata": {},
   "outputs": [
    {
     "data": {
      "text/plain": [
       "Age                                      0.015041\n",
       "How much stipend do you have a month?    0.062826\n",
       "Are_you_working_or_not?                  0.072497\n",
       "Where do you watch your movies?          0.077892\n",
       "How many movies do you watch a week?     0.166667\n",
       "Gender                                   1.000000\n",
       "Name: Gender, dtype: float64"
      ]
     },
     "execution_count": 19,
     "metadata": {},
     "output_type": "execute_result"
    }
   ],
   "source": [
    "Correlation = df.corr()[\"Gender\"].abs().sort_values(ascending = True)\n",
    "Correlation"
   ]
  },
  {
   "cell_type": "code",
   "execution_count": 20,
   "id": "272845bd",
   "metadata": {},
   "outputs": [
    {
     "data": {
      "text/plain": [
       "[<matplotlib.lines.Line2D at 0x23ce8f0dee0>]"
      ]
     },
     "execution_count": 20,
     "metadata": {},
     "output_type": "execute_result"
    },
    {
     "data": {
      "image/png": "[encoded data removed]",
      "text/plain": [
       "<Figure size 432x288 with 1 Axes>"
      ]
     },
     "metadata": {
      "needs_background": "light"
     },
     "output_type": "display_data"
    }
   ],
   "source": [
    "plt.plot(df[\"Age\"].values)"
   ]
  },
  {
   "cell_type": "code",
   "execution_count": 21,
   "id": "ccdd9aed",
   "metadata": {},
   "outputs": [
    {
     "data": {
      "text/plain": [
       "[<matplotlib.lines.Line2D at 0x23ce85b14c0>]"
      ]
     },
     "execution_count": 21,
     "metadata": {},
     "output_type": "execute_result"
    },
    {
     "data": {
      "image/png": "[encoded data removed]",
      "text/plain": [
       "<Figure size 432x288 with 1 Axes>"
      ]
     },
     "metadata": {
      "needs_background": "light"
     },
     "output_type": "display_data"
    }
   ],
   "source": [
    "plt.plot(df[\"Gender\"].values)"
   ]
  },
  {
   "cell_type": "code",
   "execution_count": 22,
   "id": "763d4c06",
   "metadata": {},
   "outputs": [
    {
     "data": {
      "text/plain": [
       "[<matplotlib.lines.Line2D at 0x23ce8614700>]"
      ]
     },
     "execution_count": 22,
     "metadata": {},
     "output_type": "execute_result"
    },
    {
     "data": {
      "image/png": "[encoded data removed]",
      "text/plain": [
       "<Figure size 432x288 with 1 Axes>"
      ]
     },
     "metadata": {
      "needs_background": "light"
     },
     "output_type": "display_data"
    }
   ],
   "source": [
    "plt.plot(df[\"How much stipend do you have a month?\"].values)"
   ]
  },
  {
   "cell_type": "code",
   "execution_count": 23,
   "id": "4395011e",
   "metadata": {},
   "outputs": [
    {
     "data": {
      "text/plain": [
       "[<matplotlib.lines.Line2D at 0x23ce867e550>]"
      ]
     },
     "execution_count": 23,
     "metadata": {},
     "output_type": "execute_result"
    },
    {
     "data": {
      "image/png": "[encoded data removed]",
      "text/plain": [
       "<Figure size 432x288 with 1 Axes>"
      ]
     },
     "metadata": {
      "needs_background": "light"
     },
     "output_type": "display_data"
    }
   ],
   "source": [
    "plt.plot(df[\"Are_you_working_or_not? \"].values)"
   ]
  },
  {
   "cell_type": "code",
   "execution_count": 24,
   "id": "aa1dbceb",
   "metadata": {},
   "outputs": [
    {
     "data": {
      "text/plain": [
       "[<matplotlib.lines.Line2D at 0x23ce8876e80>]"
      ]
     },
     "execution_count": 24,
     "metadata": {},
     "output_type": "execute_result"
    },
    {
     "data": {
      "image/png": "[encoded data removed]",
      "text/plain": [
       "<Figure size 432x288 with 1 Axes>"
      ]
     },
     "metadata": {
      "needs_background": "light"
     },
     "output_type": "display_data"
    }
   ],
   "source": [
    "plt.plot(df[\"How many movies do you watch a week?\"].values)"
   ]
  },
  {
   "cell_type": "code",
   "execution_count": 25,
   "id": "a2f96303",
   "metadata": {},
   "outputs": [
    {
     "data": {
      "text/plain": [
       "[<matplotlib.lines.Line2D at 0x23ce886e790>]"
      ]
     },
     "execution_count": 25,
     "metadata": {},
     "output_type": "execute_result"
    },
    {
     "data": {
      "image/png": "[encoded data removed]",
      "text/plain": [
       "<Figure size 432x288 with 1 Axes>"
      ]
     },
     "metadata": {
      "needs_background": "light"
     },
     "output_type": "display_data"
    }
   ],
   "source": [
    "plt.plot(df[\"Where do you watch your movies?\"].values)"
   ]
  },
  {
   "cell_type": "code",
   "execution_count": 26,
   "id": "422f4b27",
   "metadata": {},
   "outputs": [],
   "source": [
    "from sklearn.model_selection import train_test_split\n",
    "from sklearn.linear_model import LinearRegression"
   ]
  },
  {
   "cell_type": "code",
   "execution_count": 27,
   "id": "c4f6dedf",
   "metadata": {},
   "outputs": [],
   "source": [
    "X_train, X_test, Y_train, Y_test = train_test_split(X, Y, test_size = 0.2)\n",
    "  "
   ]
  },
  {
   "cell_type": "code",
   "execution_count": 28,
   "id": "f5a1cb56",
   "metadata": {},
   "outputs": [],
   "source": [
    "regr = LinearRegression()"
   ]
  },
  {
   "cell_type": "code",
   "execution_count": 29,
   "id": "246b99b8",
   "metadata": {},
   "outputs": [
    {
     "name": "stdout",
     "output_type": "stream",
     "text": [
      "-0.12173111813356807\n"
     ]
    }
   ],
   "source": [
    "regr.fit(X_train, Y_train)\n",
    "print(regr.score(X_test, Y_test))"
   ]
  },
  {
   "cell_type": "code",
   "execution_count": 30,
   "id": "f2ada8c1",
   "metadata": {},
   "outputs": [],
   "source": [
    "from sklearn import linear_model\n",
    "clf = linear_model.PoissonRegressor()"
   ]
  },
  {
   "cell_type": "code",
   "execution_count": 31,
   "id": "96726206",
   "metadata": {},
   "outputs": [],
   "source": [
    "from sklearn.metrics import mean_poisson_deviance"
   ]
  },
  {
   "cell_type": "code",
   "execution_count": 32,
   "id": "66bbbbf1",
   "metadata": {},
   "outputs": [],
   "source": [
    "from sklearn.linear_model import LogisticRegression\n",
    "log_reg = LogisticRegression()\n",
    "log_reg.fit(X_train, Y_train)\n",
    "y_pred = log_reg.predict(X_test)\n",
    "y_new = log_reg.predict_proba(X_test)[::,1]"
   ]
  },
  {
   "cell_type": "code",
   "execution_count": 33,
   "id": "0d9eff51",
   "metadata": {},
   "outputs": [
    {
     "name": "stdout",
     "output_type": "stream",
     "text": [
      "[[19  0]\n",
      " [ 1  0]]\n"
     ]
    }
   ],
   "source": [
    "from sklearn.metrics import confusion_matrix\n",
    "confusion_matrix = confusion_matrix(Y_test, y_pred)\n",
    "\n",
    "print(confusion_matrix)"
   ]
  },
  {
   "cell_type": "code",
   "execution_count": 34,
   "id": "a6e35a06",
   "metadata": {},
   "outputs": [
    {
     "name": "stdout",
     "output_type": "stream",
     "text": [
      "              precision    recall  f1-score   support\n",
      "\n",
      "         0.0       0.95      1.00      0.97        19\n",
      "         1.0       0.00      0.00      0.00         1\n",
      "\n",
      "    accuracy                           0.95        20\n",
      "   macro avg       0.47      0.50      0.49        20\n",
      "weighted avg       0.90      0.95      0.93        20\n",
      "\n"
     ]
    }
   ],
   "source": [
    "from sklearn.metrics import classification_report\n",
    "\n",
    "print(classification_report(Y_test, y_pred))"
   ]
  },
  {
   "cell_type": "code",
   "execution_count": 35,
   "id": "bb71202c",
   "metadata": {},
   "outputs": [
    {
     "data": {
      "text/plain": [
       "0.9230769230769231"
      ]
     },
     "execution_count": 35,
     "metadata": {},
     "output_type": "execute_result"
    }
   ],
   "source": [
    "log_reg.score(X_train, Y_train)"
   ]
  },
  {
   "cell_type": "code",
   "execution_count": 36,
   "id": "b58ff925",
   "metadata": {},
   "outputs": [
    {
     "name": "stdout",
     "output_type": "stream",
     "text": [
      "Accuracy: 0.95\n",
      "Precision: 0.95\n",
      "Recall: 0.95\n"
     ]
    }
   ],
   "source": [
    "print(\"Accuracy:\",metrics.accuracy_score(Y_test, y_pred))\n",
    "print(\"Precision:\",metrics.precision_score(Y_test, y_pred, average='micro'))\n",
    "print(\"Recall:\",metrics.recall_score(Y_test, y_pred, average='micro'))"
   ]
  },
  {
   "cell_type": "code",
   "execution_count": 38,
   "id": "e138d2f6",
   "metadata": {},
   "outputs": [
    {
     "data": {
      "text/plain": [
       "array([0.])"
      ]
     },
     "execution_count": 38,
     "metadata": {},
     "output_type": "execute_result"
    }
   ],
   "source": [
    "predict = log_reg.predict([(0, 22.0,  800.0, 1, 0)])\n",
    "predict"
   ]
  },
  {
   "cell_type": "code",
   "execution_count": 46,
   "id": "ef9b4fe5",
   "metadata": {},
   "outputs": [
    {
     "data": {
      "text/plain": [
       "0.022160201518726108"
      ]
     },
     "execution_count": 46,
     "metadata": {},
     "output_type": "execute_result"
    }
   ],
   "source": [
    "from sklearn.ensemble import RandomForestRegressor\n",
    "from sklearn.model_selection import train_test_split\n",
    "from sklearn.preprocessing import StandardScaler\n",
    "\n",
    "\n",
    "X_train, X_test, Y_train, Y_test = train_test_split(X, Y, test_size=0.2, random_state=99999999)\n",
    "\n",
    "X_train_std = StandardScaler().fit_transform(X_train)\n",
    "X_test_std = StandardScaler().fit_transform(X_test)\n",
    "\n",
    "\n",
    "forest = RandomForestRegressor()\n",
    "_ = forest.fit(X_train_std, Y_train)\n",
    "forest.score(X_test_std, Y_test)\n",
    "\n"
   ]
  },
  {
   "cell_type": "code",
   "execution_count": null,
   "id": "836f4a31",
   "metadata": {},
   "outputs": [],
   "source": []
  }
 ],
 "metadata": {
  "kernelspec": {
   "display_name": "Python 3 (ipykernel)",
   "language": "python",
   "name": "python3"
  },
  "language_info": {
   "codemirror_mode": {
    "name": "ipython",
    "version": 3
   },
   "file_extension": ".py",
   "mimetype": "text/x-python",
   "name": "python",
   "nbconvert_exporter": "python",
   "pygments_lexer": "ipython3",
   "version": "3.8.13"
  }
 },
 "nbformat": 4,
 "nbformat_minor": 5
}
